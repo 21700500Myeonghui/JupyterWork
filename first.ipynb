{
 "cells": [
  {
   "cell_type": "code",
   "execution_count": 2,
   "metadata": {},
   "outputs": [],
   "source": [
    "import torch"
   ]
  },
  {
   "cell_type": "code",
   "execution_count": 3,
   "metadata": {},
   "outputs": [
    {
     "data": {
      "text/plain": [
       "(tensor([[ 0.2541,  1.2393, -0.7324],\n",
       "         [-1.1040, -1.2831, -0.9491]]), tensor([[0, 0, 1],\n",
       "         [0, 1, 0]], dtype=torch.uint8), tensor([-0.7324, -1.2831]))"
      ]
     },
     "execution_count": 3,
     "metadata": {},
     "output_type": "execute_result"
    }
   ],
   "source": [
    "#torch.masked_select(input, mask)\n",
    "\n",
    "x=torch.randn(2,3)\n",
    "mask=torch.ByteTensor([[0,0,1],[0,1,0]])\n",
    "out=torch.masked_select(x,mask)\n",
    "\n",
    "x,mask,out"
   ]
  },
  {
   "cell_type": "code",
   "execution_count": 4,
   "metadata": {},
   "outputs": [],
   "source": [
    "x=torch.FloatTensor([[1,2,3],[4,5,6]])\n",
    "y=torch.FloatTensor([[-1,-2,-3],[-4,-5,-6]])\n",
    "z1=torch.cat([x,y],dim=0)\n",
    "z2=torch.cat([x,y],dim=1)"
   ]
  },
  {
   "cell_type": "code",
   "execution_count": 6,
   "metadata": {},
   "outputs": [
    {
     "data": {
      "text/plain": [
       "(tensor([[1., 2., 3.],\n",
       "         [4., 5., 6.]]), tensor([[-1., -2., -3.],\n",
       "         [-4., -5., -6.]]), tensor([[ 1.,  2.,  3.],\n",
       "         [ 4.,  5.,  6.],\n",
       "         [-1., -2., -3.],\n",
       "         [-4., -5., -6.]]), tensor([[ 1.,  2.,  3., -1., -2., -3.],\n",
       "         [ 4.,  5.,  6., -4., -5., -6.]]))"
      ]
     },
     "execution_count": 6,
     "metadata": {},
     "output_type": "execute_result"
    }
   ],
   "source": [
    "x, y, z1, z2"
   ]
  },
  {
   "cell_type": "code",
   "execution_count": 10,
   "metadata": {},
   "outputs": [
    {
     "name": "stdout",
     "output_type": "stream",
     "text": [
      "tensor([[[1., 2., 3.],\n",
      "         [4., 5., 6.]],\n",
      "\n",
      "        [[1., 2., 3.],\n",
      "         [4., 5., 6.]],\n",
      "\n",
      "        [[1., 2., 3.],\n",
      "         [4., 5., 6.]],\n",
      "\n",
      "        [[1., 2., 3.],\n",
      "         [4., 5., 6.]]])\n",
      "torch.Size([4, 2, 3])\n"
     ]
    }
   ],
   "source": [
    "x=torch.FloatTensor([[1,2,3],[4,5,6]])\n",
    "x_stack=torch.stack([x,x,x,x],dim=0)\n",
    "print(x_stack)\n",
    "print(x_stack.size())"
   ]
  },
  {
   "cell_type": "code",
   "execution_count": 11,
   "metadata": {},
   "outputs": [
    {
     "data": {
      "text/plain": [
       "tensor([[ 1.,  2.,  3.],\n",
       "        [ 4.,  5.,  6.],\n",
       "        [-1., -2., -3.],\n",
       "        [-4., -5., -6.]])"
      ]
     },
     "execution_count": 11,
     "metadata": {},
     "output_type": "execute_result"
    }
   ],
   "source": [
    "z1"
   ]
  },
  {
   "cell_type": "code",
   "execution_count": 16,
   "metadata": {},
   "outputs": [
    {
     "data": {
      "text/plain": [
       "(tensor([[1., 2., 3.],\n",
       "         [4., 5., 6.]]), tensor([[-1., -2., -3.],\n",
       "         [-4., -5., -6.]]), tensor([[ 1.],\n",
       "         [ 4.],\n",
       "         [-1.],\n",
       "         [-4.]]), tensor([[ 2.],\n",
       "         [ 5.],\n",
       "         [-2.],\n",
       "         [-5.]]))"
      ]
     },
     "execution_count": 16,
     "metadata": {},
     "output_type": "execute_result"
    }
   ],
   "source": [
    "x_1,x_2=torch.chunk(z1,2,dim=0)\n",
    "y_1,y_2,y_3=torch.chunk(z1,3,dim=1)\n",
    "x_1,x_2,y_1,y_2"
   ]
  },
  {
   "cell_type": "code",
   "execution_count": 17,
   "metadata": {},
   "outputs": [],
   "source": [
    "x1,x2=torch.split(z1,2,dim=0)\n",
    "y1,y2=torch.split(z1,2,dim=1)"
   ]
  },
  {
   "cell_type": "code",
   "execution_count": 18,
   "metadata": {},
   "outputs": [
    {
     "data": {
      "text/plain": [
       "(tensor([[1., 2., 3.],\n",
       "         [4., 5., 6.]]), tensor([[-1., -2., -3.],\n",
       "         [-4., -5., -6.]]))"
      ]
     },
     "execution_count": 18,
     "metadata": {},
     "output_type": "execute_result"
    }
   ],
   "source": [
    "x1,x2"
   ]
  },
  {
   "cell_type": "code",
   "execution_count": 19,
   "metadata": {},
   "outputs": [
    {
     "data": {
      "text/plain": [
       "(tensor([[ 1.,  2.],\n",
       "         [ 4.,  5.],\n",
       "         [-1., -2.],\n",
       "         [-4., -5.]]), tensor([[ 3.],\n",
       "         [ 6.],\n",
       "         [-3.],\n",
       "         [-6.]]))"
      ]
     },
     "execution_count": 19,
     "metadata": {},
     "output_type": "execute_result"
    }
   ],
   "source": [
    "y1,y2"
   ]
  },
  {
   "cell_type": "code",
   "execution_count": 26,
   "metadata": {},
   "outputs": [
    {
     "name": "stderr",
     "output_type": "stream",
     "text": [
      "/Users/imyeonghui/anaconda3/envs/pytorch/lib/python3.7/site-packages/ipykernel_launcher.py:2: UserWarning: nn.init.uniform is now deprecated in favor of nn.init.uniform_.\n",
      "  \n",
      "/Users/imyeonghui/anaconda3/envs/pytorch/lib/python3.7/site-packages/ipykernel_launcher.py:4: UserWarning: nn.init.normal is now deprecated in favor of nn.init.normal_.\n",
      "  after removing the cwd from sys.path.\n",
      "/Users/imyeonghui/anaconda3/envs/pytorch/lib/python3.7/site-packages/ipykernel_launcher.py:5: UserWarning: nn.init.constant is now deprecated in favor of nn.init.constant_.\n",
      "  \"\"\"\n"
     ]
    },
    {
     "data": {
      "text/plain": [
       "(tensor([[4, 7, 2, 1],\n",
       "         [6, 5, 3, 2],\n",
       "         [1, 3, 3, 4]], dtype=torch.int32),\n",
       " tensor([[ 0.0233, -0.3376, -0.0900,  0.0664],\n",
       "         [ 0.2281,  0.0267, -0.3434, -0.2110],\n",
       "         [-0.1997, -0.1016,  0.0065,  0.1784]]),\n",
       " tensor([[3.1415, 3.1415, 3.1415, 3.1415],\n",
       "         [3.1415, 3.1415, 3.1415, 3.1415],\n",
       "         [3.1415, 3.1415, 3.1415, 3.1415]]))"
      ]
     },
     "execution_count": 26,
     "metadata": {},
     "output_type": "execute_result"
    }
   ],
   "source": [
    "import torch.nn.init as init\n",
    "x1=init.uniform(torch.FloatTensor(3,4),a=0,b=9)\n",
    "x1=x1.type_as(torch.IntTensor())\n",
    "x2=init.normal(torch.FloatTensor(3,4),std=0.2)\n",
    "x3=init.constant(torch.FloatTensor(3,4),3.1415)\n",
    "x1,x2,x3"
   ]
  },
  {
   "cell_type": "code",
   "execution_count": 22,
   "metadata": {
    "scrolled": true
   },
   "outputs": [
    {
     "name": "stderr",
     "output_type": "stream",
     "text": [
      "/Users/imyeonghui/anaconda3/envs/pytorch/lib/python3.7/site-packages/ipykernel_launcher.py:1: UserWarning: nn.init.normal is now deprecated in favor of nn.init.normal_.\n",
      "  \"\"\"Entry point for launching an IPython kernel.\n",
      "/Users/imyeonghui/anaconda3/envs/pytorch/lib/python3.7/site-packages/ipykernel_launcher.py:2: UserWarning: nn.init.constant is now deprecated in favor of nn.init.constant_.\n",
      "  \n"
     ]
    }
   ],
   "source": []
  },
  {
   "cell_type": "code",
   "execution_count": null,
   "metadata": {},
   "outputs": [],
   "source": []
  }
 ],
 "metadata": {
  "kernelspec": {
   "display_name": "PyTorch",
   "language": "python",
   "name": "pytorch"
  },
  "language_info": {
   "codemirror_mode": {
    "name": "ipython",
    "version": 3
   },
   "file_extension": ".py",
   "mimetype": "text/x-python",
   "name": "python",
   "nbconvert_exporter": "python",
   "pygments_lexer": "ipython3",
   "version": "3.7.2"
  }
 },
 "nbformat": 4,
 "nbformat_minor": 2
}
